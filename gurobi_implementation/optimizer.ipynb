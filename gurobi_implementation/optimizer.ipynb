{
 "cells": [
  {
   "cell_type": "code",
   "execution_count": 11,
   "id": "9a985539-4d7e-4787-a35a-8ca60655341a",
   "metadata": {
    "ExecuteTime": {
     "end_time": "2024-05-14T02:19:58.198878Z",
     "start_time": "2024-05-14T02:19:58.194073Z"
    }
   },
   "outputs": [],
   "source": [
    "# AusCycling Optimization Problem\n",
    "# Date: May 2, 2024"
   ]
  },
  {
   "cell_type": "code",
   "execution_count": 47,
   "id": "455b0bbf-ef8f-4578-8396-ceb5a0faca97",
   "metadata": {
    "ExecuteTime": {
     "end_time": "2024-05-14T05:28:35.403807Z",
     "start_time": "2024-05-14T05:28:35.399403Z"
    }
   },
   "outputs": [],
   "source": [
    "# !pip install gurobipy\n",
    "import gurobipy as gp\n",
    "from gurobipy import GRB\n",
    "import numpy as np\n",
    "from scipy.interpolate import interp1d\n",
    "from itertools import permutations\n",
    "import csv\n",
    "import os"
   ]
  },
  {
   "cell_type": "code",
   "execution_count": 52,
   "id": "39372138",
   "metadata": {
    "ExecuteTime": {
     "end_time": "2024-05-14T05:28:47.473040Z",
     "start_time": "2024-05-14T05:28:47.469414Z"
    }
   },
   "outputs": [
    {
     "ename": "NameError",
     "evalue": "name '__file__' is not defined",
     "output_type": "error",
     "traceback": [
      "\u001B[0;31m---------------------------------------------------------------------------\u001B[0m",
      "\u001B[0;31mNameError\u001B[0m                                 Traceback (most recent call last)",
      "Input \u001B[0;32mIn [52]\u001B[0m, in \u001B[0;36m<cell line: 19>\u001B[0;34m()\u001B[0m\n\u001B[1;32m     17\u001B[0m time \u001B[38;5;241m=\u001B[39m []\n\u001B[1;32m     18\u001B[0m rider_names \u001B[38;5;241m=\u001B[39m []\n\u001B[0;32m---> 19\u001B[0m absolute_path \u001B[38;5;241m=\u001B[39m os\u001B[38;5;241m.\u001B[39mpath\u001B[38;5;241m.\u001B[39mdirname(os\u001B[38;5;241m.\u001B[39mpath\u001B[38;5;241m.\u001B[39mabspath(\u001B[38;5;18;43m__file__\u001B[39;49m))\n\u001B[1;32m     20\u001B[0m phys_file_path \u001B[38;5;241m=\u001B[39m os\u001B[38;5;241m.\u001B[39mpath\u001B[38;5;241m.\u001B[39mjoin(absolute_path, \u001B[38;5;124m\"\u001B[39m\u001B[38;5;124mphysiology.csv\u001B[39m\u001B[38;5;124m\"\u001B[39m)\n\u001B[1;32m     21\u001B[0m \u001B[38;5;28;01mwith\u001B[39;00m \u001B[38;5;28mopen\u001B[39m(phys_file_path, newline\u001B[38;5;241m=\u001B[39m\u001B[38;5;124m'\u001B[39m\u001B[38;5;124m'\u001B[39m) \u001B[38;5;28;01mas\u001B[39;00m csvfile:\n",
      "\u001B[0;31mNameError\u001B[0m: name '__file__' is not defined"
     ]
    }
   ],
   "source": [
    "# Unchanging variables\n",
    "num_cyclists = 4\n",
    "num_bends = 32\n",
    "drags = [.96, .58, .52, .53]\n",
    "\n",
    "# time = [1,5,10,20,30,45,60,120,150,180,240,300,360,480,600,720,900,1200,2400,3600]\n",
    "\n",
    "half_lap_distance = 125\n",
    "penalty_distance = 2.1\n",
    "rho = 1.225\n",
    "cyclists_init_order = [0,1,2,3]\n",
    "\n",
    "critical_power_from_csv = []\n",
    "w_prime_from_csv = []\n",
    "CdA_from_csv = []\n",
    "m_from_csv = []\n",
    "time = []\n",
    "rider_names = []\n",
    "absolute_path = os.path.dirname(os.path.abspath(__file__))\n",
    "phys_file_path = os.path.join(absolute_path, \"physiology.csv\")\n",
    "with open(phys_file_path, newline='') as csvfile:\n",
    "    reader = csv.DictReader(csvfile)\n",
    "    for row_number, row in enumerate(reader):\n",
    "        if row_number >= 4:\n",
    "            break\n",
    "        rider_names.append(row['Name'])\n",
    "        critical_power_from_csv.append(float(row['CP']))\n",
    "        w_prime_from_csv.append(float(row[\"W'\"])*1000)\n",
    "        CdA_from_csv.append(float(row['CdA']))\n",
    "        m_from_csv.append(float(row['m']))\n",
    "print(critical_power_from_csv)\n",
    "print(w_prime_from_csv)\n",
    "print(CdA_from_csv)\n",
    "print(m_from_csv)\n",
    "team_w_prime = sum(w_prime_from_csv)\n",
    "raw_power_curves_from_csv = []\n",
    "pc_file_path = os.path.join(absolute_path, \"power_curve.csv\")\n",
    "with open(pc_file_path, newline='') as csvfile:\n",
    "    reader = csv.DictReader(csvfile)\n",
    "    m1 = []\n",
    "    m2 = []\n",
    "    m3 = []\n",
    "    m4 = []\n",
    "    for row in reader:\n",
    "        time.append(float(row['Time (s)']))\n",
    "        m1.append(float(row[rider_names[0]]))\n",
    "        m2.append(float(row[rider_names[1]]))\n",
    "        m3.append(float(row[rider_names[2]]))\n",
    "        m4.append(float(row[rider_names[3]]))\n",
    "    \n",
    "raw_power_curves_from_csv.append(m1)\n",
    "raw_power_curves_from_csv.append(m2)\n",
    "raw_power_curves_from_csv.append(m3)\n",
    "raw_power_curves_from_csv.append(m4)\n",
    "print(raw_power_curves_from_csv)"
   ]
  },
  {
   "cell_type": "code",
   "execution_count": 53,
   "id": "3849f254",
   "metadata": {
    "ExecuteTime": {
     "end_time": "2024-05-14T05:28:48.577452Z",
     "start_time": "2024-05-14T05:28:48.564162Z"
    }
   },
   "outputs": [],
   "source": [
    "def initialize_W_depleted_matrix(half_lap_time, velocity_m_per_sec, critical_power, w_prime, CdA, raw_power_curves, num_half_laps_to_accel):\n",
    "    #print(velocity_m_per_sec)\n",
    "    num_bends_steady_state = num_bends - num_half_laps_to_accel\n",
    "    max_power = np.zeros((num_cyclists, num_bends_steady_state, num_bends_steady_state))\n",
    "    W_depleted = np.zeros((num_cyclists, len(drags), num_bends_steady_state, num_bends_steady_state))\n",
    "    penalty_time = (penalty_distance * half_lap_time) / half_lap_distance\n",
    "    #print(penalty_time)\n",
    "\n",
    "    for cyc in range(num_cyclists):\n",
    "        interpolated_function = interp1d(time, raw_power_curves[cyc], kind = 'cubic')\n",
    "        for col in range(0, num_bends_steady_state):\n",
    "            for row in range(col + 1, num_bends_steady_state):\n",
    "                # Slight modification for first and last lap\n",
    "                if (col == 0) and (row == num_bends_steady_state - 1):\n",
    "                    time_in_lead = num_bends_steady_state * half_lap_time + penalty_time\n",
    "                elif (col == 0) and (row != num_bends_steady_state - 1):\n",
    "                    time_in_lead = ((row - col) + .5) * half_lap_time + (2 * penalty_time)\n",
    "                elif (col != 0) and (row != num_bends_steady_state - 1):\n",
    "                    time_in_lead = (row - col) * half_lap_time + (2 * penalty_time)\n",
    "                elif (col != 0) and (row == num_bends_steady_state - 1):\n",
    "                    time_in_lead = ((row - col) + .5) * half_lap_time + penalty_time\n",
    "                else:\n",
    "                    print(\"Missed Case\")\n",
    "            \n",
    "                max_power[cyc][row][col] = max(interpolated_function(time_in_lead), critical_power[cyc])\n",
    "                for drag in range(len(drags)):\n",
    "                    calculated_power = (.5*rho*CdA[cyc]*(velocity_m_per_sec**3)) * drags[drag]\n",
    "                    if calculated_power <= max_power[cyc][row][col]:\n",
    "                        power = max(0, calculated_power - critical_power[cyc])\n",
    "                        work = power * time_in_lead\n",
    "                        W_depleted[cyc][drag][row][col] = work\n",
    "                    else:\n",
    "                        W_depleted[cyc][drag][row][col] = 1000 * w_prime[cyc]\n",
    "                        #print(\"Infeasible work: cyc: \" + str(cyc) + \", drag: \" + str(drag) + \", row: \" + str(row) + \", col: \" + str(col))\n",
    "    return(W_depleted)"
   ]
  },
  {
   "cell_type": "code",
   "execution_count": 54,
   "id": "73b7bb2c",
   "metadata": {
    "ExecuteTime": {
     "end_time": "2024-05-14T05:28:49.495270Z",
     "start_time": "2024-05-14T05:28:49.484782Z"
    }
   },
   "outputs": [],
   "source": [
    "def print_results(results_dictionary):\n",
    "# Print results in terms of laps\n",
    "# The array indexes translate to the following lap equivalents\n",
    "# [0: 0.25, 1: 0.75, 2: 1.25, 3: 1.75, 4: 2.25, 5: 2.75, 6: 3.25, 7: 3.75, 8: 4.25, 9: 4.75, 10: 5.25, \n",
    "#  11: 5.75, 12: 6.25, 13: 6.75, 14: 7.25, 15: 7.75, 16: 8.25, 17: 8.75, 18: 9.25, 19: 9.75, 20: 10.25, \n",
    "#  21: 10.75, 22: 11.25, 23: 11.75, 24: 12.25, 25: 12.75, 26: 13.25, 27: 13.75, 28: 14.25, 29: 14.75, 30: 15.25,\n",
    "#  31: 15.75\n",
    "    cyclist_order = \"Optimal cyclist order is: \"\n",
    "    #print(results_dictionary[\"cyclist_order\"][0])\n",
    "    for cyclist in range(num_cyclists):\n",
    "        cyclist_order = cyclist_order + results_dictionary[\"cyclist_order\"][cyclist] + \", \"\n",
    "    cyclist_order = cyclist_order[:-2]\n",
    "    print(cyclist_order)\n",
    "    print(\"\")\n",
    "    \n",
    "    strategy = str(results_dictionary[\"number_of_intervals\"]) + \" intervals. Switch leaders at laps: \" + str(results_dictionary[\"switch_strategy\"])\n",
    "    n = results_dictionary[\"number_of_intervals\"]\n",
    "    print(strategy)\n",
    "    print(\"\")\n",
    "    print(\"Team work depletion: \" + str(round(results_dictionary[\"team_work_depletion\"], 2)) + \" W, \" + str(round(results_dictionary[\"team_work_depletion_percentage\"], 2)) + \"%\")\n",
    "    for cyclist in range(num_cyclists):\n",
    "        print(\"Cyclist \" + results_dictionary[\"cyclist_order\"][cyclist] + \" depleted \" + str(round(results_dictionary[\"cyclist_work_depletion\"][cyclist],2)) + \" W, \" + str(round(results_dictionary[\"cyclist_work_depletion_percent\"][cyclist], 2)) + \"% of their W'\")\n",
    "          \n",
    "    if (sum(results_dictionary[\"cyclist_work_depletion\"])) == results_dictionary[\"team_work_depletion\"]:\n",
    "        print(\"Sum of individual cyclists power equals objective function value\")\n",
    "    else:\n",
    "        print(\"Objective Function - sum of individual cyclists work depleted equals \" + str(results_dictionary[\"team_work_depletion\"] - sum(results_dictionary[\"cyclist_work_depletion\"])))\n",
    "    print(\"\")\n",
    "    print(\"Expected split time per lap: \" + str(results_dictionary[\"half_lap_time\"] * 2) + \" (s)\")\n",
    "    print(\"Expected constant velocity: \" + str(round(results_dictionary[\"velocity_km_per_hour\"],2)) + \" km/hr\")\n",
    "\n",
    "    "
   ]
  },
  {
   "cell_type": "code",
   "execution_count": 55,
   "id": "4407aafb",
   "metadata": {
    "ExecuteTime": {
     "end_time": "2024-05-14T05:28:50.298967Z",
     "start_time": "2024-05-14T05:28:50.289431Z"
    }
   },
   "outputs": [],
   "source": [
    "def generate_infeasible_sol_results_dictionary(n, permutation_to_alpha, half_lap_time, velocity_m_per_sec):\n",
    "    results_dictionary = {}\n",
    "    results_dictionary[\"cyclist_order\"] = permutation_to_alpha\n",
    "    results_dictionary[\"number_of_intervals\"] = n\n",
    "    results_dictionary[\"switch_strategy\"] = {0: -1}\n",
    "    results_dictionary[\"team_work_depletion\"] = -1\n",
    "    results_dictionary[\"team_work_depletion_percentage\"] = -1\n",
    "    results_dictionary[\"cyclist_work_depletion\"] = [-1, -1, -1, -1]\n",
    "    results_dictionary[\"cyclist_work_depletion_percent\"] = [-1, -1, -1, -1]\n",
    "    results_dictionary[\"half_lap_time\"] = half_lap_time\n",
    "    results_dictionary[\"velocity_km_per_hour\"] = velocity_m_per_sec * 3.6\n",
    "    results_dictionary[\"feasibility\"] = 'infeasible'\n",
    "    \n",
    "    return(results_dictionary)\n"
   ]
  },
  {
   "cell_type": "code",
   "execution_count": 56,
   "id": "f9018ec0-e9a0-4653-8624-77bf872c5374",
   "metadata": {
    "ExecuteTime": {
     "end_time": "2024-05-14T05:28:51.149434Z",
     "start_time": "2024-05-14T05:28:51.129629Z"
    }
   },
   "outputs": [],
   "source": [
    "# n is number of switches\n",
    "def find_optimal_solution(n, permutation_to_alpha, half_lap_time, velocity_m_per_sec, critical_power, w_prime, CdA, m, raw_power_curves, num_half_laps_to_accel, enforce_first_switch_half_lap, velocity_km_per_hour):\n",
    "    W_depleted = initialize_W_depleted_matrix(half_lap_time, velocity_m_per_sec, critical_power, w_prime, CdA, raw_power_curves, num_half_laps_to_accel)\n",
    "    #print(W_depleted[1][1])\n",
    "    num_bends_steady_state = num_bends - num_half_laps_to_accel\n",
    "    #print(num_bends_steady_state)\n",
    "    time_to_accel = (2 * 125 * num_half_laps_to_accel) / velocity_m_per_sec\n",
    "    results_dictionary = {}\n",
    "\n",
    "    # Create the model object\n",
    "    model= gp.Model (\"AusCycling_Model\")\n",
    "\n",
    "    # Add the decision variables\n",
    "    z = model.addVars(num_bends_steady_state, num_bends_steady_state, n, vtype=GRB.BINARY, name=\"z\")\n",
    "\n",
    "    # Constraints\n",
    "    ### Maximum work per cyclist constraint (Need to review this constraint)\n",
    "    for cyclist in range(num_cyclists):\n",
    "        work_from_acceleration = drags[cyclist] * ((1 / 2) * m[cyclist] * (velocity_m_per_sec**2)) \n",
    "        max_work_constraint = model.addConstr(work_from_acceleration + (sum(z[i, j, k] * W_depleted[cyclist, ((cyclists_init_order[cyclist] + (4 - (k % 4))) % 4), i, j] for i in range(num_bends_steady_state) for j in range(num_bends_steady_state) for k in range(n))) <= w_prime[cyclist], name=\"max_work\")\n",
    "\n",
    "    ### Number of intervals constraint\n",
    "    number_intervals = model.addConstr(sum(z[i, j, k] for i in range(num_bends_steady_state) for j in range(num_bends_steady_state) for k in range(n)) == n, name=\"number_intervals\")\n",
    "\n",
    "    ### Number of switches per interval constraint\n",
    "    for k in range(n):\n",
    "        number_switches_per_interval = model.addConstr(sum(z[i, j, k] for i in range(num_bends_steady_state) for j in range(num_bends_steady_state)) == 1, name=\"number_switches_in_interval_\" + str(k))\n",
    "    \n",
    "    initial_switch = enforce_first_switch_half_lap - num_half_laps_to_accel\n",
    "    #print(initial_switch)\n",
    "    first_switch = model.addConstr((z[initial_switch,0,0] == 1), name=\"enforce switch after acceleration\")\n",
    "    interval_end = model.addConstr((sum(z[num_bends_steady_state-1,j,n-1] for j in range(num_bends_steady_state)) == 1), name=\"interval_end\")\n",
    "\n",
    "    ### Intervals start and end from an “Active Bend” \n",
    "    for s in range(n-1):\n",
    "        intervals_start_end = model.addConstrs(((sum(z[i, k, s + 1] for i in range(num_bends_steady_state)) == sum(z[k, j, s] for j in range(num_bends_steady_state))) for k in range(num_bends_steady_state)), name=\"intervals_start_end\")\n",
    "\n",
    "    # Intervals must have bends that go in order\n",
    "    for col in range(1, num_bends_steady_state):\n",
    "        in_order_bends_first_row_0 = model.addConstr(z[0, col, 0] == 0, name=\"in_order_bends\")\n",
    "    for s in range(1,n):\n",
    "        for col in range(num_bends_steady_state):\n",
    "            in_order_bends_first_row_other_n = model.addConstr(z[0, col, s] == 0, name=\"in_order_bends\")\n",
    "    for s in range(n):\n",
    "        for row in range(1, num_bends_steady_state):\n",
    "            for col in range(row, num_bends_steady_state):\n",
    "                in_order_bends = model.addConstr(z[row, col, s] == 0, name=\"in_order_bends\")\n",
    "\n",
    "    # Objective Function\n",
    "    total_work_tracker = [0, 0, 0, 0]\n",
    "    for cyclist in range(num_cyclists):\n",
    "        work_from_acceleration = drags[cyclist] * ((1 / 2) * m[cyclist] * (velocity_m_per_sec**2)) \n",
    "        #work_from_acceleration = 0\n",
    "        #print(\"Work from acceleration: \" + str(work_from_acceleration))\n",
    "        total_work_tracker[cyclist] = work_from_acceleration + (sum(z[i, j, k] * W_depleted[cyclist, ((cyclists_init_order[cyclist] + (4 - (k % 4))) % 4), i, j] for i in range(num_bends_steady_state) for j in range(num_bends_steady_state) for k in range(n)))\n",
    "    total_work = sum(total_work_tracker)            \n",
    "    objective_function = model.setObjective(total_work, GRB.MAXIMIZE)\n",
    "    # suppress output\n",
    "    model.setParam('OutputFlag', 0)\n",
    "\n",
    "    model.optimize()\n",
    "\n",
    "    status = model.status\n",
    "    #print(status)\n",
    "    if status == gp.GRB.Status.INFEASIBLE:\n",
    "        print(\"Model is infeasible, moving on to the next model...\")\n",
    "        results_dictionary = generate_infeasible_sol_results_dictionary(n, permutation_to_alpha, half_lap_time, velocity_m_per_sec)\n",
    "        # Move on to the next iteration of the loop\n",
    "        #continue\n",
    "    else:\n",
    "        results_dictionary[\"cyclist_order\"] = permutation_to_alpha\n",
    "        results_dictionary[\"number_of_intervals\"] = n\n",
    "        results_dictionary[\"team_work_depletion\"] = model.ObjVal\n",
    "        results_dictionary[\"team_work_depletion_percentage\"] = model.ObjVal / team_w_prime * 100\n",
    "        results_dictionary[\"switch_strategy\"] = {}\n",
    "        for k in range(n-1):\n",
    "            for j in range(num_bends_steady_state):\n",
    "                for i in range(num_bends_steady_state):\n",
    "                    # Retrieve the value of the decision variable at indices (i, j, k)\n",
    "                    value = z[i, j, k].X\n",
    "                    if value > 0.1:\n",
    "                        results_dictionary[\"switch_strategy\"][k] = (.5*i)+.25 + (num_half_laps_to_accel/2)\n",
    "        total_work_output = [0, 0, 0, 0]\n",
    "        total_work_output_percent = [0, 0, 0, 0]\n",
    "        z_values = model.getAttr('X', z)\n",
    "\n",
    "        #z_values[(i, j, k)]\n",
    "        for cyclist in range(num_cyclists):\n",
    "            work_from_acceleration = drags[cyclist] * ((1 / 2) * m[cyclist] * (velocity_m_per_sec**2))\n",
    "            total_work_output[cyclist] = work_from_acceleration + sum(z_values[i, j, k] * W_depleted[cyclist, ((cyclists_init_order[cyclist] + (4 - (k % 4))) % 4), i, j] for i in range(num_bends_steady_state) for j in range(num_bends_steady_state) for k in range(n))\n",
    "            total_work_output_percent[cyclist] = total_work_output[cyclist] / w_prime[cyclist] * 100\n",
    "        results_dictionary[\"cyclist_work_depletion\"] = total_work_output\n",
    "        results_dictionary[\"cyclist_work_depletion_percent\"] = total_work_output_percent\n",
    "        results_dictionary[\"half_lap_time\"] = half_lap_time\n",
    "        results_dictionary[\"velocity_km_per_hour\"] = velocity_km_per_hour\n",
    "        results_dictionary[\"feasibility\"] = 'feasible'\n",
    "\n",
    "    return(results_dictionary)"
   ]
  },
  {
   "cell_type": "code",
   "execution_count": 57,
   "id": "d9a39d69",
   "metadata": {
    "ExecuteTime": {
     "end_time": "2024-05-14T05:28:51.774527Z",
     "start_time": "2024-05-14T05:28:51.767138Z"
    }
   },
   "outputs": [],
   "source": [
    "def run():    \n",
    "    # Variables that may change\n",
    "    \n",
    "    csv_file_path = os.path.join(absolute_path, \"results.csv\")\n",
    "    init_num_intervals = 7\n",
    "    num_intervals_to_try = 2\n",
    "    half_lap_times = [6.70]\n",
    "    #half_lap_times = [6.65, 6.70, 6.75, 6.80, 6.85, 6.9, 6.95, 7.00]\n",
    "    num_half_laps_to_accel = 4\n",
    "    enforce_first_switch_lap = 4\n",
    "    #perms = [(0,1,2,3)]\n",
    "    \n",
    "    final_num_intervals = init_num_intervals + num_intervals_to_try\n",
    "    optimal_team_work_depletion = 0\n",
    "    optimal_number_of_intervals = 0\n",
    "    optimal_strategy = generate_infeasible_sol_results_dictionary(init_num_intervals, ('A','B','C','D'), half_lap_times[0], 125/half_lap_times[0])\n",
    "    optimal_time = 100\n",
    "    \n",
    "    #FINISH\n",
    "    with open(csv_file_path, mode='w', newline='') as file:\n",
    "        # find optimal cyclist order\n",
    "        writer = csv.writer(file)\n",
    "        column_titles = ['Permutation', 'Num_Intervals', 'Strategy', 'Team Work Depletion', 'Team Work Depletion %', \n",
    "                         'Cyclist init pos 0 Work Depleted', 'Cyclist init pos 0 Work Depleted %',\n",
    "                         'Cyclist init pos 1 Work Depleted', 'Cyclist init pos 1 Work Depleted %',\n",
    "                         'Cyclist init pos 2 Work Depleted', 'Cyclist init pos 2 Work Depleted %',\n",
    "                         'Cyclist init pos 3 Work Depleted', 'Cyclist init pos 3 Work Depleted %',\n",
    "                         'Expected Split Time per Lap', 'Expected Constant Velocity', 'Feasibility']\n",
    "        writer.writerow(column_titles)\n",
    "        for half_lap_time in reversed(half_lap_times):\n",
    "            velocity_m_per_sec = half_lap_distance / half_lap_time\n",
    "            velocity_km_per_hour = velocity_m_per_sec * 3.6\n",
    "            for permutation in permutations(cyclists_init_order):\n",
    "                critical_power = [0, 0, 0, 0]\n",
    "                w_prime = [0, 0, 0, 0]\n",
    "                CdA = [0, 0, 0, 0]\n",
    "                m = [0, 0, 0, 0]\n",
    "                raw_power_curves = [[],[],[],[]]\n",
    "                for i in range(num_cyclists):\n",
    "                    critical_power[i] = critical_power_from_csv[permutation[i]]\n",
    "                    w_prime[i] = w_prime_from_csv[permutation[i]]\n",
    "                    CdA[i] = CdA_from_csv[permutation[i]]\n",
    "                    m[i] = m_from_csv[permutation[i]]\n",
    "                    raw_power_curves[i] = raw_power_curves_from_csv[permutation[i]]    \n",
    "       \n",
    "                # find optimal number of intervals\n",
    "                for num_intervals in range(init_num_intervals, final_num_intervals):\n",
    "                    permutation_to_alpha = (chr(permutation[0] + 65), chr(permutation[1] + 65), chr(permutation[2] + 65), chr(permutation[3] + 65))\n",
    "                    results_dictionary = find_optimal_solution(num_intervals, permutation_to_alpha, half_lap_time, velocity_m_per_sec, critical_power, w_prime, CdA, m, raw_power_curves, num_half_laps_to_accel, enforce_first_switch_lap, velocity_km_per_hour)\n",
    "                    print(\"Testing permutation \" + str(permutation_to_alpha) + \" at \" + str(num_intervals) + \" intervals at \" + str(half_lap_time) + \" (s) half lap time.\")\n",
    "                    print(\"Team work depletion for \" + str(num_intervals) + \" intervals: \" + str(results_dictionary[\"team_work_depletion\"]))\n",
    "                    strategy_dict = results_dictionary[\"switch_strategy\"]\n",
    "                    strategy = tuple(strategy_dict.values())\n",
    "                    csv_data = [permutation_to_alpha, num_intervals, strategy, results_dictionary[\"team_work_depletion\"], results_dictionary[\"team_work_depletion_percentage\"],\n",
    "                                results_dictionary[\"cyclist_work_depletion\"][0], results_dictionary[\"cyclist_work_depletion_percent\"][0],\n",
    "                                results_dictionary[\"cyclist_work_depletion\"][1], results_dictionary[\"cyclist_work_depletion_percent\"][1],\n",
    "                                results_dictionary[\"cyclist_work_depletion\"][2], results_dictionary[\"cyclist_work_depletion_percent\"][2],\n",
    "                                results_dictionary[\"cyclist_work_depletion\"][3], results_dictionary[\"cyclist_work_depletion_percent\"][3],\n",
    "                                results_dictionary[\"half_lap_time\"]* 2, results_dictionary[\"velocity_km_per_hour\"], results_dictionary[\"feasibility\"]]\n",
    "                    writer.writerow(csv_data)\n",
    "                    if results_dictionary[\"feasibility\"] == \"feasible\" and (half_lap_time < optimal_time or results_dictionary[\"team_work_depletion\"] < optimal_team_work_depletion):\n",
    "                        optimal_team_work_depletion = results_dictionary[\"team_work_depletion\"]\n",
    "                        optimal_number_of_intervals = num_intervals\n",
    "                        optimal_time = half_lap_time\n",
    "                        optimal_strategy = results_dictionary\n",
    "    return optimal_strategy"
   ]
  },
  {
   "cell_type": "code",
   "execution_count": 58,
   "id": "5a3c60a3",
   "metadata": {
    "ExecuteTime": {
     "end_time": "2024-05-14T05:28:52.473268Z",
     "start_time": "2024-05-14T05:28:52.441529Z"
    }
   },
   "outputs": [
    {
     "ename": "NameError",
     "evalue": "name 'absolute_path' is not defined",
     "output_type": "error",
     "traceback": [
      "\u001B[0;31m---------------------------------------------------------------------------\u001B[0m",
      "\u001B[0;31mNameError\u001B[0m                                 Traceback (most recent call last)",
      "Input \u001B[0;32mIn [58]\u001B[0m, in \u001B[0;36m<cell line: 1>\u001B[0;34m()\u001B[0m\n\u001B[0;32m----> 1\u001B[0m print_results(\u001B[43mrun\u001B[49m\u001B[43m(\u001B[49m\u001B[43m)\u001B[49m)\n",
      "Input \u001B[0;32mIn [57]\u001B[0m, in \u001B[0;36mrun\u001B[0;34m()\u001B[0m\n\u001B[1;32m      1\u001B[0m \u001B[38;5;28;01mdef\u001B[39;00m \u001B[38;5;21mrun\u001B[39m():    \n\u001B[1;32m      2\u001B[0m     \u001B[38;5;66;03m# Variables that may change\u001B[39;00m\n\u001B[0;32m----> 4\u001B[0m     csv_file_path \u001B[38;5;241m=\u001B[39m os\u001B[38;5;241m.\u001B[39mpath\u001B[38;5;241m.\u001B[39mjoin(\u001B[43mabsolute_path\u001B[49m, \u001B[38;5;124m\"\u001B[39m\u001B[38;5;124mresults.csv\u001B[39m\u001B[38;5;124m\"\u001B[39m)\n\u001B[1;32m      5\u001B[0m     init_num_intervals \u001B[38;5;241m=\u001B[39m \u001B[38;5;241m7\u001B[39m\n\u001B[1;32m      6\u001B[0m     num_intervals_to_try \u001B[38;5;241m=\u001B[39m \u001B[38;5;241m2\u001B[39m\n",
      "\u001B[0;31mNameError\u001B[0m: name 'absolute_path' is not defined"
     ]
    }
   ],
   "source": [
    "print_results(run())"
   ]
  },
  {
   "cell_type": "code",
   "execution_count": null,
   "outputs": [],
   "source": [],
   "metadata": {
    "collapsed": false
   },
   "id": "62ecf6a227810fb7"
  }
 ],
 "metadata": {
  "kernelspec": {
   "display_name": "Python 3 (ipykernel)",
   "language": "python",
   "name": "python3"
  },
  "language_info": {
   "codemirror_mode": {
    "name": "ipython",
    "version": 3
   },
   "file_extension": ".py",
   "mimetype": "text/x-python",
   "name": "python",
   "nbconvert_exporter": "python",
   "pygments_lexer": "ipython3",
   "version": "3.11.3"
  }
 },
 "nbformat": 4,
 "nbformat_minor": 5
}
