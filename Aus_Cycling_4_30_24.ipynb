{
 "cells": [
  {
   "cell_type": "code",
   "execution_count": 3,
   "id": "9a985539-4d7e-4787-a35a-8ca60655341a",
   "metadata": {},
   "outputs": [],
   "source": [
    "# AusCycling Optimization Problem\n",
    "# Date: April 24, 2024\n",
    "\n",
    "# Translate bends into laps\n",
    "# Print individual cyclist total_work_depleted\n",
    "# translate 6.95 seconds per 125 m to km/hr\n",
    "# Code clean up\n",
    "# Starting and ending cases\n",
    "# For loop for cyclists order\n",
    "# Double check negative power corner case"
   ]
  },
  {
   "cell_type": "code",
   "execution_count": 8,
   "id": "455b0bbf-ef8f-4578-8396-ceb5a0faca97",
   "metadata": {},
   "outputs": [],
   "source": [
    "# !pip install gurobipy\n",
    "import gurobipy as gp\n",
    "from gurobipy import GRB\n",
    "import pandas as pd\n",
    "import numpy as np\n",
    "import matplotlib.pyplot as plt\n",
    "import numpy as np\n",
    "from scipy.interpolate import interp1d\n"
   ]
  },
  {
   "cell_type": "code",
   "execution_count": 9,
   "id": "60294cf5-5542-46aa-95ec-bc5abc8fdd8e",
   "metadata": {},
   "outputs": [
    {
     "name": "stdout",
     "output_type": "stream",
     "text": [
      "[0, 1, 2, 3, 4, 5, 6, 7, 8, 9, 10, 11, 12, 13, 14, 15, 16, 17, 18, 19, 20, 21, 22, 23, 24, 25, 26, 27, 28, 29, 30, 31]\n",
      "[0, 1, 2, 3, 4, 5, 6, 7, 8, 9, 10, 11, 12, 13, 14, 15, 16, 17, 18, 19, 20, 21, 22, 23, 24, 25, 26, 27, 28, 29, 30, 31]\n",
      "8\n",
      "     CP \n",
      "0  420.0\n",
      "1  387.9\n",
      "2  420.0\n",
      "3  350.0\n"
     ]
    },
    {
     "name": "stderr",
     "output_type": "stream",
     "text": [
      "C:\\Users\\salat\\AppData\\Local\\Temp\\ipykernel_35184\\2203819451.py:14: FutureWarning: Calling int on a single element Series is deprecated and will raise a TypeError in the future. Use int(ser.iloc[0]) instead\n",
      "  n=int(constants.iloc[0])\n"
     ]
    }
   ],
   "source": [
    "# Parameters\n",
    "constants = pd.read_csv('AusCycling_Constants.csv')\n",
    "w_prime = pd.read_csv('AusCycling_W_prime.csv')\n",
    "cp = pd.read_csv('AusCycling_CP.csv')\n",
    "W_1 = pd.read_csv('AusCycling_W_ij_1.csv')\n",
    "W_2 = pd.read_csv('AusCycling_W_ij_2.csv')\n",
    "W_3 = pd.read_csv('AusCycling_W_ij_3.csv')\n",
    "W_4 = pd.read_csv('AusCycling_W_ij_4.csv')\n",
    "CdA = pd.read_csv('AusCycling_CdA.csv')\n",
    "\n",
    "#Lists\n",
    "bends = list(W_1.index)\n",
    "cyclists = list(w_prime.index)\n",
    "n=int(constants.iloc[0])\n",
    "print(bends)\n",
    "print(cyclists)\n",
    "print(n)\n",
    "print(cp)\n"
   ]
  },
  {
   "cell_type": "code",
   "execution_count": 10,
   "id": "3849f254",
   "metadata": {},
   "outputs": [],
   "source": [
    "#Calculate W_1, W_2, W_3, W_4 matrices to include switch penalties\n",
    "num_cyclists = 4\n",
    "drags = [.95, .7, .65, .6]\n",
    "W_depleted = np.zeros((num_cyclists, len(drags), 32, 32))\n",
    "critical_power = [420, 388, 420, 350]  # Critical power for each cyclist\n",
    "w_prime = [29100, 28600, 25500, 26100]  # W prime for each cyclist\n",
    "raw_power_curves = [\n",
    "    [1607,1520,1440,1300,1181,1037,926,680,624,591,541,517,501,481,469,460,452,444,432,412],\n",
    "    [1632,1540,1456,1308,1183,1031,913,653,595,560,507,483,467,447,436,428,420,412,400,380],\n",
    "    [1489,1411,1338,1212,1104,974,873,651,601,571,526,505,491,473,463,455,448,441,431,412],\n",
    "    [1462,1380,1305,1173,1061,926,820,589,537,506,459,437,422,404,393,386,379,372,361,343]\n",
    "]\n",
    "time = [1,5,10,20,30,45,60,120,150,180,240,300,360,480,600,720,900,1200,2400,3600]\n",
    "#formulate a num_cyclists x (num_laps * turns_per_lap) power curve array [i,j] \n",
    "#to say if cyclist i leads for j turns, this is how much work is depleted\n",
    "half_lap_time = 6.95\n",
    "half_lap_distance = 125\n",
    "penalty_distance = 2.1\n",
    "penalty_time = (penalty_distance * half_lap_time) / half_lap_distance\n",
    "#print(penalty_time)\n",
    "for cyc in range(num_cyclists):\n",
    "    interpolated_function = interp1d(time, raw_power_curves[cyc], kind = 'cubic')\n",
    "    for drag in range(len(drags)):\n",
    "        for col in range(32):\n",
    "            for row in range(col + 1, 32):\n",
    "                time_in_lead = (row - col) * half_lap_time + penalty_time\n",
    "                W_depleted[cyc][drag][row][col]=((interpolated_function(time_in_lead)*drags[drag])-critical_power[cyc]) * time_in_lead\n",
    "    \n",
    "#print(W_depleted)"
   ]
  },
  {
   "cell_type": "code",
   "execution_count": 1,
   "id": "f9018ec0-e9a0-4653-8624-77bf872c5374",
   "metadata": {},
   "outputs": [
    {
     "ename": "NameError",
     "evalue": "name 'gp' is not defined",
     "output_type": "error",
     "traceback": [
      "\u001b[0;31m---------------------------------------------------------------------------\u001b[0m",
      "\u001b[0;31mNameError\u001b[0m                                 Traceback (most recent call last)",
      "Cell \u001b[0;32mIn[1], line 2\u001b[0m\n\u001b[1;32m      1\u001b[0m \u001b[38;5;66;03m# Create the model object\u001b[39;00m\n\u001b[0;32m----> 2\u001b[0m model\u001b[38;5;241m=\u001b[39m \u001b[43mgp\u001b[49m\u001b[38;5;241m.\u001b[39mModel (\u001b[38;5;124m\"\u001b[39m\u001b[38;5;124mAusCycling_Model\u001b[39m\u001b[38;5;124m\"\u001b[39m)\n\u001b[1;32m      4\u001b[0m \u001b[38;5;66;03m# Add the decision variables\u001b[39;00m\n\u001b[1;32m      5\u001b[0m z \u001b[38;5;241m=\u001b[39m model\u001b[38;5;241m.\u001b[39maddVars(bends, bends, n, vtype\u001b[38;5;241m=\u001b[39mGRB\u001b[38;5;241m.\u001b[39mBINARY, name\u001b[38;5;241m=\u001b[39m\u001b[38;5;124m\"\u001b[39m\u001b[38;5;124mz\u001b[39m\u001b[38;5;124m\"\u001b[39m)\n",
      "\u001b[0;31mNameError\u001b[0m: name 'gp' is not defined"
     ]
    }
   ],
   "source": [
    "# Create the model object\n",
    "model= gp.Model (\"AusCycling_Model\")\n",
    "\n",
    "# Add the decision variables\n",
    "z = model.addVars(bends, bends, n, vtype=GRB.BINARY, name=\"z\")\n",
    "\n",
    "cyclists_init_order = [0,1,2,3]\n",
    "\n",
    "# Constraints\n",
    "### Maximum work per cyclist constraint (Need to review this constraint)\n",
    "max_work_1_constraint = model.addConstr(sum(z[i, j, k] * W_depleted[0, ((cyclists_init_order[0] + (4 - (k % 4))) % 4), i, j] for i in bends for j in bends for k in range(n)) <= 10*w_prime[0], name=\"max_work_1\")\n",
    "max_work_2_constraint = model.addConstr(sum(z[i, j, k] * W_depleted[1, ((cyclists_init_order[1] + (4 - (k % 4))) % 4), i, j] for i in bends for j in bends for k in range(n)) <= 10*w_prime[1], name=\"max_work_2\")\n",
    "max_work_3_constraint = model.addConstr(sum(z[i, j, k] * W_depleted[2, ((cyclists_init_order[2] + (4 - (k % 4))) % 4), i, j] for i in bends for j in bends for k in range(n)) <= 10*w_prime[2], name=\"max_work_3\")\n",
    "max_work_4_constraint = model.addConstr(sum(z[i, j, k] * W_depleted[3, ((cyclists_init_order[3] + (4 - (k % 4))) % 4), i, j] for i in bends for j in bends for k in range(n)) <= 10*w_prime[3], name=\"max_work_4\")\n",
    "\n",
    "### Number of intervals constraint\n",
    "number_intervals = model.addConstr(sum(z[i, j, k] for i in bends for j in bends for k in range(n)) == n, name=\"number_intervals\")\n",
    "\n",
    "### Number of switches per interval constraint\n",
    "for k in range(n):\n",
    "    number_switches_per_interval = model.addConstr(sum(z[i, j, k] for i in bends for j in bends) == 1, name=\"number_switches_in_interval_\" + str(k))\n",
    "\n",
    "interval_start = model.addConstr((sum(z[i,0,0] for i in bends) == 1), name=\"interval_start\")\n",
    "interval_end = model.addConstr((sum(z[len(bends)-1,j,n-1] for j in bends) == 1), name=\"interval_end\")\n",
    "\n",
    "# Numer of switches per bend constraint\n",
    "for i in range(32):\n",
    "    num_switches_per_bend_1 = model.addConstr(sum(z[i, col, interval] for col in range(32) for interval in range(n)) <= 1, name=\"num_switches_per_bend_1\")\n",
    "    num_switches_per_bend_2 = model.addConstr(sum(z[row, i, interval] for row in range(32) for interval in range(n)) <= 1, name=\"num_switches_per_bend_2\")\n",
    "\n",
    "### Intervals start and end from an “Active Bend” \n",
    "for s in range(n-1):\n",
    "    intervals_start_end = model.addConstrs(((sum(z[i, k, s + 1] for i in bends) == sum(z[k, j, s] for j in bends)) for k in bends), name=\"intervals_start_end\")\n",
    "\n",
    "# Intervals must have bends that go in order\n",
    "for s in range(n):\n",
    "    for row in range(32):\n",
    "        for col in range(row, 32):\n",
    "            in_order_bends = model.addConstr(z[row, col, s] == 0, name=\"in_order_bends\")\n",
    "# Objective Function\n",
    "total_work=(sum(z[i, j, k] * W_depleted[0, ((cyclists_init_order[0] + (4 - (k % 4))) % 4), i, j] for i in bends for j in bends for k in range(n)) + sum(z[i, j, k] * W_depleted[1, ((cyclists_init_order[1] + (4 - (k % 4))) % 4), i, j] for i in bends for j in bends for k in range(n)) + sum(z[i, j, k] * W_depleted[2, ((cyclists_init_order[2] + (4 - (k % 4))) % 4), i, j] for i in bends for j in bends for k in range(n)) + sum(z[i, j, k] * W_depleted[3, ((cyclists_init_order[3] + (4 - (k % 4))) % 4), i, j] for i in bends for j in bends for k in range(n)))\n",
    "            \n",
    "objective_function = model.setObjective(total_work, GRB.MAXIMIZE)\n",
    "\n",
    "model.optimize()\n"
   ]
  },
  {
   "cell_type": "code",
   "execution_count": 13,
   "id": "84189f52-c716-4301-9a79-3495c6e32f31",
   "metadata": {},
   "outputs": [
    {
     "data": {
      "text/plain": [
       "388213.6843227841"
      ]
     },
     "execution_count": 13,
     "metadata": {},
     "output_type": "execute_result"
    }
   ],
   "source": [
    "model.ObjVal"
   ]
  },
  {
   "cell_type": "code",
   "execution_count": 14,
   "id": "fbffca0b-59e8-4f4a-90b5-dbb0fbc359a8",
   "metadata": {},
   "outputs": [
    {
     "name": "stdout",
     "output_type": "stream",
     "text": [
      "z[4, 0, 0] = 1.0\n",
      "z[8, 4, 1] = 1.0\n",
      "z[12, 8, 2] = 1.0\n",
      "z[16, 12, 3] = 1.0\n",
      "z[20, 16, 4] = 1.0\n",
      "z[24, 20, 5] = 1.0\n",
      "z[28, 24, 6] = 1.0\n",
      "z[31, 28, 7] = 1.0\n"
     ]
    }
   ],
   "source": [
    "for k in range(n):\n",
    "    for j in bends:\n",
    "        for i in bends:\n",
    "            # Retrieve the value of the decision variable at indices (i, j, k)\n",
    "            value = z[i, j, k].X\n",
    "            if value == 1:\n",
    "            \n",
    "                # Print the indices and their corresponding value\n",
    "                print(f\"z[{i}, {j}, {k}] = {value}\")"
   ]
  },
  {
   "cell_type": "code",
   "execution_count": null,
   "id": "c1809ae9",
   "metadata": {},
   "outputs": [],
   "source": []
  }
 ],
 "metadata": {
  "kernelspec": {
   "display_name": "Python 3 (ipykernel)",
   "language": "python",
   "name": "python3"
  },
  "language_info": {
   "codemirror_mode": {
    "name": "ipython",
    "version": 3
   },
   "file_extension": ".py",
   "mimetype": "text/x-python",
   "name": "python",
   "nbconvert_exporter": "python",
   "pygments_lexer": "ipython3",
   "version": "3.11.1"
  }
 },
 "nbformat": 4,
 "nbformat_minor": 5
}
