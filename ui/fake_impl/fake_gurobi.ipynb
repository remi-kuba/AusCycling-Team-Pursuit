{
 "cells": [
  {
   "cell_type": "code",
   "execution_count": 1,
   "id": "initial_id",
   "metadata": {
    "collapsed": true,
    "ExecuteTime": {
     "end_time": "2024-05-07T18:24:56.890858Z",
     "start_time": "2024-05-07T18:24:54.548746Z"
    }
   },
   "outputs": [],
   "source": [
    "import gurobipy as gp\n",
    "from gurobipy import GRB\n",
    "import pandas as pd\n",
    "import matplotlib.pyplot as plt\n",
    "import numpy as np\n",
    "from scipy.interpolate import interp1d"
   ]
  },
  {
   "cell_type": "code",
   "execution_count": 2,
   "outputs": [
    {
     "data": {
      "text/plain": "                  waste tonnage  average income  population\nCenter                                                     \nSioux Falls                 260           44430        6466\nApison                      525           38929       15929\nGrandin                     571           32742       13866\nSouthern Gateway            408           49612       11569\nSeattle                     183           31373        4578",
      "text/html": "<div>\n<style scoped>\n    .dataframe tbody tr th:only-of-type {\n        vertical-align: middle;\n    }\n\n    .dataframe tbody tr th {\n        vertical-align: top;\n    }\n\n    .dataframe thead th {\n        text-align: right;\n    }\n</style>\n<table border=\"1\" class=\"dataframe\">\n  <thead>\n    <tr style=\"text-align: right;\">\n      <th></th>\n      <th>waste tonnage</th>\n      <th>average income</th>\n      <th>population</th>\n    </tr>\n    <tr>\n      <th>Center</th>\n      <th></th>\n      <th></th>\n      <th></th>\n    </tr>\n  </thead>\n  <tbody>\n    <tr>\n      <th>Sioux Falls</th>\n      <td>260</td>\n      <td>44430</td>\n      <td>6466</td>\n    </tr>\n    <tr>\n      <th>Apison</th>\n      <td>525</td>\n      <td>38929</td>\n      <td>15929</td>\n    </tr>\n    <tr>\n      <th>Grandin</th>\n      <td>571</td>\n      <td>32742</td>\n      <td>13866</td>\n    </tr>\n    <tr>\n      <th>Southern Gateway</th>\n      <td>408</td>\n      <td>49612</td>\n      <td>11569</td>\n    </tr>\n    <tr>\n      <th>Seattle</th>\n      <td>183</td>\n      <td>31373</td>\n      <td>4578</td>\n    </tr>\n  </tbody>\n</table>\n</div>"
     },
     "execution_count": 2,
     "metadata": {},
     "output_type": "execute_result"
    }
   ],
   "source": [
    "center_locations = pd.read_csv(\"center_location.csv\", index_col=\"Center\")\n",
    "landfill_locations = pd.read_csv(\"landfill_location.csv\", index_col=\"Landfill\")\n",
    "center_info = pd.read_csv(\"center_info.csv\", index_col=\"Center\")\n",
    "center_locations.head()\n",
    "landfill_locations.head()\n",
    "center_info.head()"
   ],
   "metadata": {
    "collapsed": false,
    "ExecuteTime": {
     "end_time": "2024-05-07T18:24:57.892403Z",
     "start_time": "2024-05-07T18:24:57.856168Z"
    }
   },
   "id": "947131d9a40e6c6"
  },
  {
   "cell_type": "code",
   "execution_count": 3,
   "outputs": [],
   "source": [
    "centers = list(center_locations.index)\n",
    "landfills = list(landfill_locations.index)"
   ],
   "metadata": {
    "collapsed": false,
    "ExecuteTime": {
     "end_time": "2024-05-07T18:25:00.337942Z",
     "start_time": "2024-05-07T18:25:00.329730Z"
    }
   },
   "id": "e4473ca23031d65b"
  },
  {
   "cell_type": "code",
   "execution_count": 4,
   "outputs": [],
   "source": [
    "sl_distance_centers_landfills = pd.DataFrame(index=centers, columns=landfills)\n",
    "for i in centers:\n",
    "    for j in landfills:\n",
    "        center_x = center_locations.loc[i, \"x\"]\n",
    "        center_y = center_locations.loc[i, \"y\"]\n",
    "        landfill_x = landfill_locations.loc[j, \"x\"]\n",
    "        landfill_y = landfill_locations.loc[j, \"y\"]\n",
    "        distance = ((center_x - landfill_x)**2 +\n",
    "                    (center_y - landfill_y)**2)**(1/2)\n",
    "        sl_distance_centers_landfills.loc[i, j] = distance"
   ],
   "metadata": {
    "collapsed": false,
    "ExecuteTime": {
     "end_time": "2024-05-07T18:25:03.613980Z",
     "start_time": "2024-05-07T18:25:03.612118Z"
    }
   },
   "id": "e4ebf3b4cd6e48c3"
  },
  {
   "cell_type": "code",
   "execution_count": 5,
   "outputs": [
    {
     "name": "stdout",
     "output_type": "stream",
     "text": [
      "Restricted license - for non-production use only - expires 2025-11-24\n"
     ]
    }
   ],
   "source": [
    "# calculate big-M value\n",
    "bigM = max(center_info[\"waste tonnage\"])\n",
    "\n",
    "# Create the model object (for question 1b)\n",
    "model_question1b = gp.Model(\"question1b_model\")\n",
    "\n",
    "# Add the decision variables\n",
    "xcl = model_question1b.addVars(centers, landfills, name=\"xcl\")\n",
    "z = model_question1b.addVars(landfills, vtype=GRB.BINARY, name=\"z\")\n",
    "\n",
    "# Construct the objective function \n",
    "objective_function = model_question1b.setObjective(\n",
    "    1.03 * sum(sl_distance_centers_landfills.loc[i, j] * xcl[i, j] for i in centers for j in landfills), \n",
    "    GRB.MINIMIZE)\n",
    "\n",
    "# Waste collection constraints:\n",
    "# We must transport all waste away from each center\n",
    "collect_waste_constraint = model_question1b.addConstrs(\n",
    "    (sum(xcl[i, j] for j in landfills) == center_info.loc[i, 'waste tonnage'] for i in centers), \n",
    "    name=\"collect_waste\")\n",
    "\n",
    "# We can only transport waste to landfill locations that have been built\n",
    "bibig_M_constraint = model_question1b.addConstrs(\n",
    "    (xcl[i, j] <= bigM * z[j] for i in centers for j in landfills), \n",
    "    name=\"big_M\")\n",
    "\n",
    "# We can build at most 4 landfills\n",
    "max_num_landfills_constraint = model_question1b.addConstr(\n",
    "    sum(z[j] for j in landfills) <= 4, \n",
    "    name=\"max_num_landfills\")"
   ],
   "metadata": {
    "collapsed": false,
    "ExecuteTime": {
     "end_time": "2024-05-07T18:25:04.713840Z",
     "start_time": "2024-05-07T18:25:04.648023Z"
    }
   },
   "id": "d3cec0528219483b"
  },
  {
   "cell_type": "code",
   "execution_count": 6,
   "outputs": [
    {
     "name": "stdout",
     "output_type": "stream",
     "text": [
      "Gurobi Optimizer version 11.0.1 build v11.0.1rc0 (mac64[rosetta2] - Darwin 22.6.0 22G74)\n",
      "\n",
      "CPU model: Apple M2\n",
      "Thread count: 8 physical cores, 8 logical processors, using up to 8 threads\n",
      "\n",
      "Optimize a model with 801 rows, 765 columns and 2265 nonzeros\n",
      "Model fingerprint: 0xda3796a2\n",
      "Variable types: 750 continuous, 15 integer (15 binary)\n",
      "Coefficient statistics:\n",
      "  Matrix range     [1e+00, 1e+03]\n",
      "  Objective range  [1e+00, 1e+02]\n",
      "  Bounds range     [1e+00, 1e+00]\n",
      "  RHS range        [4e+00, 1e+03]\n",
      "Presolve time: 0.01s\n",
      "Presolved: 801 rows, 765 columns, 2265 nonzeros\n",
      "Variable types: 750 continuous, 15 integer (15 binary)\n",
      "Found heuristic solution: objective 1071357.2543\n",
      "\n",
      "Root relaxation: objective 4.407073e+05, 54 iterations, 0.00 seconds (0.00 work units)\n",
      "\n",
      "    Nodes    |    Current Node    |     Objective Bounds      |     Work\n",
      " Expl Unexpl |  Obj  Depth IntInf | Incumbent    BestBd   Gap | It/Node Time\n",
      "\n",
      "*    0     0               0    440707.33563 440707.336  0.00%     -    0s\n",
      "\n",
      "Explored 1 nodes (54 simplex iterations) in 0.03 seconds (0.00 work units)\n",
      "Thread count was 8 (of 8 available processors)\n",
      "\n",
      "Solution count 2: 440707 1.07136e+06 \n",
      "\n",
      "Optimal solution found (tolerance 1.00e-04)\n",
      "Best objective 4.407073356265e+05, best bound 4.407073356265e+05, gap 0.0000%\n"
     ]
    }
   ],
   "source": [
    "model_question1b.optimize()"
   ],
   "metadata": {
    "collapsed": false,
    "ExecuteTime": {
     "end_time": "2024-05-07T18:25:07.911491Z",
     "start_time": "2024-05-07T18:25:07.857879Z"
    }
   },
   "id": "e98e61da7e87387a"
  },
  {
   "cell_type": "code",
   "execution_count": 7,
   "outputs": [
    {
     "name": "stdout",
     "output_type": "stream",
     "text": [
      "Build landfill at Lake Lorraine\n",
      "Build landfill at Muhlenberg Park\n",
      "Build landfill at Weiser\n",
      "Build landfill at Renfrow\n",
      "Total weekly cost is: $ 440707.335626\n"
     ]
    }
   ],
   "source": [
    "built_landfills = []\n",
    "for j in landfills:\n",
    "    if z[j].x >= 0.9999:\n",
    "        print(\"Build landfill at\", j)\n",
    "        built_landfills.append(j)\n",
    "        \n",
    "total_cost = 1.03 * sum(sl_distance_centers_landfills.loc[i,j]*xcl[i,j].x for i in centers for j in landfills)\n",
    "print(\"Total weekly cost is: $ %f\" % total_cost)"
   ],
   "metadata": {
    "collapsed": false,
    "ExecuteTime": {
     "end_time": "2024-05-07T18:25:14.851375Z",
     "start_time": "2024-05-07T18:25:14.837135Z"
    }
   },
   "id": "e26885e91496acab"
  },
  {
   "cell_type": "code",
   "execution_count": null,
   "outputs": [],
   "source": [],
   "metadata": {
    "collapsed": false
   },
   "id": "b72aad0966e831b"
  }
 ],
 "metadata": {
  "kernelspec": {
   "display_name": "Python 3",
   "language": "python",
   "name": "python3"
  },
  "language_info": {
   "codemirror_mode": {
    "name": "ipython",
    "version": 2
   },
   "file_extension": ".py",
   "mimetype": "text/x-python",
   "name": "python",
   "nbconvert_exporter": "python",
   "pygments_lexer": "ipython2",
   "version": "2.7.6"
  }
 },
 "nbformat": 4,
 "nbformat_minor": 5
}
